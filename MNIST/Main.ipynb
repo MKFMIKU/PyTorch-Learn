{
 "cells": [
  {
   "cell_type": "code",
   "execution_count": 1,
   "metadata": {
    "collapsed": true
   },
   "outputs": [],
   "source": [
    "import torch\n",
    "from torch.autograd import Variable\n",
    "import torch.nn as nn\n",
    "import torch.nn.functional as F\n",
    "import torchvision\n",
    "from torchvision import datasets, transforms\n",
    "import torch.optim as optim\n",
    "\n",
    "import os\n",
    "import pandas as pd\n",
    "import matplotlib\n",
    "import numpy as np\n",
    "import matplotlib.pyplot as plt\n",
    "%matplotlib inline"
   ]
  },
  {
   "cell_type": "code",
   "execution_count": 2,
   "metadata": {},
   "outputs": [
    {
     "data": {
      "text/html": [
       "<div>\n",
       "<table border=\"1\" class=\"dataframe\">\n",
       "  <thead>\n",
       "    <tr style=\"text-align: right;\">\n",
       "      <th></th>\n",
       "      <th>label</th>\n",
       "      <th>pixel0</th>\n",
       "      <th>pixel1</th>\n",
       "      <th>pixel2</th>\n",
       "      <th>pixel3</th>\n",
       "      <th>pixel4</th>\n",
       "      <th>pixel5</th>\n",
       "      <th>pixel6</th>\n",
       "      <th>pixel7</th>\n",
       "      <th>pixel8</th>\n",
       "      <th>...</th>\n",
       "      <th>pixel774</th>\n",
       "      <th>pixel775</th>\n",
       "      <th>pixel776</th>\n",
       "      <th>pixel777</th>\n",
       "      <th>pixel778</th>\n",
       "      <th>pixel779</th>\n",
       "      <th>pixel780</th>\n",
       "      <th>pixel781</th>\n",
       "      <th>pixel782</th>\n",
       "      <th>pixel783</th>\n",
       "    </tr>\n",
       "  </thead>\n",
       "  <tbody>\n",
       "    <tr>\n",
       "      <th>0</th>\n",
       "      <td>1</td>\n",
       "      <td>0</td>\n",
       "      <td>0</td>\n",
       "      <td>0</td>\n",
       "      <td>0</td>\n",
       "      <td>0</td>\n",
       "      <td>0</td>\n",
       "      <td>0</td>\n",
       "      <td>0</td>\n",
       "      <td>0</td>\n",
       "      <td>...</td>\n",
       "      <td>0</td>\n",
       "      <td>0</td>\n",
       "      <td>0</td>\n",
       "      <td>0</td>\n",
       "      <td>0</td>\n",
       "      <td>0</td>\n",
       "      <td>0</td>\n",
       "      <td>0</td>\n",
       "      <td>0</td>\n",
       "      <td>0</td>\n",
       "    </tr>\n",
       "    <tr>\n",
       "      <th>1</th>\n",
       "      <td>0</td>\n",
       "      <td>0</td>\n",
       "      <td>0</td>\n",
       "      <td>0</td>\n",
       "      <td>0</td>\n",
       "      <td>0</td>\n",
       "      <td>0</td>\n",
       "      <td>0</td>\n",
       "      <td>0</td>\n",
       "      <td>0</td>\n",
       "      <td>...</td>\n",
       "      <td>0</td>\n",
       "      <td>0</td>\n",
       "      <td>0</td>\n",
       "      <td>0</td>\n",
       "      <td>0</td>\n",
       "      <td>0</td>\n",
       "      <td>0</td>\n",
       "      <td>0</td>\n",
       "      <td>0</td>\n",
       "      <td>0</td>\n",
       "    </tr>\n",
       "    <tr>\n",
       "      <th>2</th>\n",
       "      <td>1</td>\n",
       "      <td>0</td>\n",
       "      <td>0</td>\n",
       "      <td>0</td>\n",
       "      <td>0</td>\n",
       "      <td>0</td>\n",
       "      <td>0</td>\n",
       "      <td>0</td>\n",
       "      <td>0</td>\n",
       "      <td>0</td>\n",
       "      <td>...</td>\n",
       "      <td>0</td>\n",
       "      <td>0</td>\n",
       "      <td>0</td>\n",
       "      <td>0</td>\n",
       "      <td>0</td>\n",
       "      <td>0</td>\n",
       "      <td>0</td>\n",
       "      <td>0</td>\n",
       "      <td>0</td>\n",
       "      <td>0</td>\n",
       "    </tr>\n",
       "    <tr>\n",
       "      <th>3</th>\n",
       "      <td>4</td>\n",
       "      <td>0</td>\n",
       "      <td>0</td>\n",
       "      <td>0</td>\n",
       "      <td>0</td>\n",
       "      <td>0</td>\n",
       "      <td>0</td>\n",
       "      <td>0</td>\n",
       "      <td>0</td>\n",
       "      <td>0</td>\n",
       "      <td>...</td>\n",
       "      <td>0</td>\n",
       "      <td>0</td>\n",
       "      <td>0</td>\n",
       "      <td>0</td>\n",
       "      <td>0</td>\n",
       "      <td>0</td>\n",
       "      <td>0</td>\n",
       "      <td>0</td>\n",
       "      <td>0</td>\n",
       "      <td>0</td>\n",
       "    </tr>\n",
       "    <tr>\n",
       "      <th>4</th>\n",
       "      <td>0</td>\n",
       "      <td>0</td>\n",
       "      <td>0</td>\n",
       "      <td>0</td>\n",
       "      <td>0</td>\n",
       "      <td>0</td>\n",
       "      <td>0</td>\n",
       "      <td>0</td>\n",
       "      <td>0</td>\n",
       "      <td>0</td>\n",
       "      <td>...</td>\n",
       "      <td>0</td>\n",
       "      <td>0</td>\n",
       "      <td>0</td>\n",
       "      <td>0</td>\n",
       "      <td>0</td>\n",
       "      <td>0</td>\n",
       "      <td>0</td>\n",
       "      <td>0</td>\n",
       "      <td>0</td>\n",
       "      <td>0</td>\n",
       "    </tr>\n",
       "  </tbody>\n",
       "</table>\n",
       "<p>5 rows × 785 columns</p>\n",
       "</div>"
      ],
      "text/plain": [
       "   label  pixel0  pixel1  pixel2  pixel3  pixel4  pixel5  pixel6  pixel7  \\\n",
       "0      1       0       0       0       0       0       0       0       0   \n",
       "1      0       0       0       0       0       0       0       0       0   \n",
       "2      1       0       0       0       0       0       0       0       0   \n",
       "3      4       0       0       0       0       0       0       0       0   \n",
       "4      0       0       0       0       0       0       0       0       0   \n",
       "\n",
       "   pixel8    ...     pixel774  pixel775  pixel776  pixel777  pixel778  \\\n",
       "0       0    ...            0         0         0         0         0   \n",
       "1       0    ...            0         0         0         0         0   \n",
       "2       0    ...            0         0         0         0         0   \n",
       "3       0    ...            0         0         0         0         0   \n",
       "4       0    ...            0         0         0         0         0   \n",
       "\n",
       "   pixel779  pixel780  pixel781  pixel782  pixel783  \n",
       "0         0         0         0         0         0  \n",
       "1         0         0         0         0         0  \n",
       "2         0         0         0         0         0  \n",
       "3         0         0         0         0         0  \n",
       "4         0         0         0         0         0  \n",
       "\n",
       "[5 rows x 785 columns]"
      ]
     },
     "execution_count": 2,
     "metadata": {},
     "output_type": "execute_result"
    }
   ],
   "source": [
    "df = pd.read_csv(\"input/train.csv\")\n",
    "df.head()"
   ]
  },
  {
   "cell_type": "code",
   "execution_count": 3,
   "metadata": {
    "collapsed": true
   },
   "outputs": [],
   "source": [
    "def cube_data(df):\n",
    "    \"\"\"Creates an n-d array from data frame\"\"\"\n",
    "    if \"label\" in df.columns:\n",
    "        imgs = df.drop(\"label\", axis = 1).values # iloc: integer indexing, values: numpy ndarray\n",
    "    else:\n",
    "        imgs = df.values\n",
    "    ntot = imgs.shape[0]         # number of rows\n",
    "\n",
    "    imgs = imgs / 255\n",
    "    # create a ntrain * 28 * 28 ndarray of training set\n",
    "    cube = np.ndarray(shape = (ntot, 1, 28, 28), dtype = \"float\")\n",
    "    for i in range(0, ntot):\n",
    "        cube[i, 0, :, :] = imgs[i, :].reshape(28, 28)\n",
    "    return cube"
   ]
  },
  {
   "cell_type": "code",
   "execution_count": 4,
   "metadata": {
    "collapsed": true
   },
   "outputs": [],
   "source": [
    "cube = cube_data(df)\n",
    "ntot = cube.shape[0]"
   ]
  },
  {
   "cell_type": "code",
   "execution_count": 5,
   "metadata": {
    "collapsed": true
   },
   "outputs": [],
   "source": [
    "ntrain = np.floor(ntot * .8)\n",
    "train_indices = np.random.randint(0, int(ntot), size = int(ntrain))\n",
    "\n",
    "nvalid = ntot - ntrain\n",
    "valid_indices = np.setdiff1d(list(range(0, ntot)), train_indices)"
   ]
  },
  {
   "cell_type": "code",
   "execution_count": 6,
   "metadata": {
    "collapsed": true
   },
   "outputs": [],
   "source": [
    "labels = df['label'].values"
   ]
  },
  {
   "cell_type": "code",
   "execution_count": 7,
   "metadata": {
    "collapsed": true
   },
   "outputs": [],
   "source": [
    "train_cube = torch.FloatTensor(cube[train_indices, :, :, :])\n",
    "valid_cube = torch.FloatTensor(cube[valid_indices, :, :, :])\n",
    "\n",
    "train_labels = torch.from_numpy(labels[train_indices])\n",
    "valid_labels = torch.from_numpy(labels[valid_indices])"
   ]
  },
  {
   "cell_type": "code",
   "execution_count": 8,
   "metadata": {},
   "outputs": [
    {
     "name": "stdout",
     "output_type": "stream",
     "text": [
      "torch.Size([33600, 1, 28, 28])\n",
      "torch.Size([33600])\n",
      "torch.Size([18870, 1, 28, 28])\n",
      "torch.Size([18870])\n"
     ]
    }
   ],
   "source": [
    "print(train_cube.size())\n",
    "print(train_labels.size())\n",
    "print(valid_cube.size())\n",
    "print(valid_labels.size())"
   ]
  },
  {
   "cell_type": "code",
   "execution_count": 9,
   "metadata": {
    "collapsed": true
   },
   "outputs": [],
   "source": [
    "trainset = torch.utils.data.TensorDataset(train_cube, train_labels)\n",
    "trainloader = torch.utils.data.DataLoader(trainset, batch_size = 64, \n",
    "                                          shuffle = True,)\n",
    "\n",
    "testset = torch.utils.data.TensorDataset(valid_cube, valid_labels)\n",
    "testloader = torch.utils.data.DataLoader(testset, batch_size = 64, \n",
    "                                          shuffle = True)"
   ]
  },
  {
   "cell_type": "code",
   "execution_count": 10,
   "metadata": {},
   "outputs": [
    {
     "name": "stdout",
     "output_type": "stream",
     "text": [
      "    6     3     2     1     5     6     2     8     2     0     3     1     9     2     9     5     5     7     0     7     8     7     3     6     0     6     0     1     2     6     2     2     7     6     3     0     0     0     4     0     4     8     0     1     3     8     3     9     4     6     9     5     3     9     8     1     8     3     0     7     9     2     8     2\n"
     ]
    },
    {
     "data": {
      "image/png": "[encoded data removed]",
      "text/plain": [
       "<matplotlib.figure.Figure at 0x7f37b8b159b0>"
      ]
     },
     "metadata": {},
     "output_type": "display_data"
    }
   ],
   "source": [
    "def imshow(img):\n",
    "    img = img # unnormalize\n",
    "    npimg = img.numpy()\n",
    "    plt.imshow(np.transpose(npimg, (1,2,0)))\n",
    "\n",
    "dataiter = iter(trainloader)\n",
    "images, labels = dataiter.next()\n",
    "\n",
    "imshow(torchvision.utils.make_grid(images))\n",
    "print(' '.join('%5s'%int(labels.numpy()[j]) for j in range(trainloader.batch_size)))"
   ]
  },
  {
   "cell_type": "code",
   "execution_count": 11,
   "metadata": {},
   "outputs": [
    {
     "data": {
      "text/plain": [
       "Net (\n",
       "  (conv1): Conv2d(1, 10, kernel_size=(5, 5), stride=(1, 1))\n",
       "  (conv2): Conv2d(10, 20, kernel_size=(5, 5), stride=(1, 1))\n",
       "  (conv2_drop): Dropout2d (p=0.5)\n",
       "  (fc1): Linear (320 -> 50)\n",
       "  (fc2): Linear (50 -> 10)\n",
       ")"
      ]
     },
     "execution_count": 11,
     "metadata": {},
     "output_type": "execute_result"
    }
   ],
   "source": [
    "\n",
    "class Net(nn.Module):\n",
    "    def __init__(self):\n",
    "        super(Net, self).__init__()\n",
    "        self.conv1 = nn.Conv2d(1, 10, kernel_size=5)\n",
    "        self.conv2 = nn.Conv2d(10, 20, kernel_size=5)\n",
    "        self.conv2_drop = nn.Dropout2d()\n",
    "        self.fc1 = nn.Linear(320, 50)\n",
    "        self.fc2 = nn.Linear(50, 10)\n",
    "\n",
    "    def forward(self, x):\n",
    "        x = F.relu(F.max_pool2d(self.conv1(x), 2))\n",
    "        x = F.relu(F.max_pool2d(self.conv2_drop(self.conv2(x)), 2))\n",
    "        x = x.view(-1, 320)\n",
    "        x = F.relu(self.fc1(x))\n",
    "        x = F.dropout(x, training=self.training)\n",
    "        x = self.fc2(x)\n",
    "        return F.log_softmax(x)\n",
    "\n",
    "net = Net()\n",
    "net.cuda()\n",
    "net"
   ]
  },
  {
   "cell_type": "code",
   "execution_count": 12,
   "metadata": {},
   "outputs": [
    {
     "name": "stdout",
     "output_type": "stream",
     "text": [
      "8\n",
      "torch.Size([10, 1, 5, 5])\n",
      "torch.Size([20, 10, 5, 5])\n",
      "torch.Size([50, 320])\n"
     ]
    }
   ],
   "source": [
    "params = list(net.parameters())\n",
    "print(len(params))\n",
    "print(params[0].size())\n",
    "print(params[2].size())\n",
    "print(params[4].size())"
   ]
  },
  {
   "cell_type": "code",
   "execution_count": 13,
   "metadata": {
    "collapsed": true
   },
   "outputs": [],
   "source": [
    "optimizer = optim.Adam(net.parameters(),lr=0.0001)"
   ]
  },
  {
   "cell_type": "code",
   "execution_count": 14,
   "metadata": {
    "collapsed": true
   },
   "outputs": [],
   "source": [
    "def train(epoch):\n",
    "    net.train()\n",
    "    for batch_index, (inputs, labels) in enumerate(trainloader):\n",
    "        inputs, labels = inputs.cuda(), labels.cuda()\n",
    "        inputs, labels = Variable(inputs), Variable(torch.squeeze(labels))\n",
    "        optimizer.zero_grad()\n",
    "        outputs = net(inputs)\n",
    "        loss = F.nll_loss(outputs, labels)\n",
    "        loss.backward()\n",
    "        optimizer.step()\n",
    "        if batch_index % 100 == 0:\n",
    "            print('Train Epoch: {} [{}/{} ({:.0f}%)]\\tLoss: {:.6f}'.format(\n",
    "                    epoch, batch_index * len(inputs), len(trainloader.dataset),\n",
    "                    100. * batch_index / len(trainloader), loss.data[0]))"
   ]
  },
  {
   "cell_type": "code",
   "execution_count": 15,
   "metadata": {
    "collapsed": true
   },
   "outputs": [],
   "source": [
    "def test(epoch):\n",
    "    net.eval()\n",
    "    test_loss = 0\n",
    "    correct = 0\n",
    "    for data, target in testloader:\n",
    "        data, target = data.cuda(), target.cuda()\n",
    "        data, target = Variable(data, volatile=True), Variable(torch.squeeze(target))\n",
    "        output = net(data)\n",
    "        test_loss += F.nll_loss(output, target).data[0]\n",
    "        pred = output.data.max(1)[1] # get the index of the max log-probability\n",
    "        correct += pred.eq(target.data).cpu().sum()\n",
    "\n",
    "    test_loss = test_loss\n",
    "    test_loss /= len(testloader) # loss function already averages over batch size\n",
    "    print('\\nTest set: Average loss: {:.4f}, Accuracy: {}/{} ({:.0f}%)\\n'.format(\n",
    "        test_loss, correct, len(testloader.dataset),\n",
    "        100. * correct / len(testloader.dataset)))"
   ]
  },
  {
   "cell_type": "code",
   "execution_count": null,
   "metadata": {
    "scrolled": true
   },
   "outputs": [
    {
     "name": "stdout",
     "output_type": "stream",
     "text": [
      "Train Epoch: 0 [0/33600 (0%)]\tLoss: 2.312326\n",
      "Train Epoch: 0 [6400/33600 (19%)]\tLoss: 2.280845\n",
      "Train Epoch: 0 [12800/33600 (38%)]\tLoss: 2.075958\n",
      "Train Epoch: 0 [19200/33600 (57%)]\tLoss: 1.709425\n",
      "Train Epoch: 0 [25600/33600 (76%)]\tLoss: 1.359656\n",
      "Train Epoch: 0 [32000/33600 (95%)]\tLoss: 0.954555\n",
      "\n",
      "Test set: Average loss: 0.8570, Accuracy: 14949/18870 (79%)\n",
      "\n",
      "Train Epoch: 1 [0/33600 (0%)]\tLoss: 1.244148\n",
      "Train Epoch: 1 [6400/33600 (19%)]\tLoss: 0.749903\n",
      "Train Epoch: 1 [12800/33600 (38%)]\tLoss: 0.823581\n",
      "Train Epoch: 1 [19200/33600 (57%)]\tLoss: 0.830648\n",
      "Train Epoch: 1 [25600/33600 (76%)]\tLoss: 0.552553\n",
      "Train Epoch: 1 [32000/33600 (95%)]\tLoss: 0.704887\n",
      "\n",
      "Test set: Average loss: 0.4501, Accuracy: 16687/18870 (88%)\n",
      "\n",
      "Train Epoch: 2 [0/33600 (0%)]\tLoss: 0.716729\n",
      "Train Epoch: 2 [6400/33600 (19%)]\tLoss: 0.549301\n",
      "Train Epoch: 2 [12800/33600 (38%)]\tLoss: 0.758139\n",
      "Train Epoch: 2 [19200/33600 (57%)]\tLoss: 0.540438\n",
      "Train Epoch: 2 [25600/33600 (76%)]\tLoss: 0.519530\n",
      "Train Epoch: 2 [32000/33600 (95%)]\tLoss: 0.700160\n",
      "\n",
      "Test set: Average loss: 0.3451, Accuracy: 17057/18870 (90%)\n",
      "\n",
      "Train Epoch: 3 [0/33600 (0%)]\tLoss: 0.675804\n",
      "Train Epoch: 3 [6400/33600 (19%)]\tLoss: 0.420435\n",
      "Train Epoch: 3 [12800/33600 (38%)]\tLoss: 0.438373\n",
      "Train Epoch: 3 [19200/33600 (57%)]\tLoss: 0.674891\n",
      "Train Epoch: 3 [25600/33600 (76%)]\tLoss: 0.554975\n",
      "Train Epoch: 3 [32000/33600 (95%)]\tLoss: 0.577581\n",
      "\n",
      "Test set: Average loss: 0.2965, Accuracy: 17275/18870 (92%)\n",
      "\n",
      "Train Epoch: 4 [0/33600 (0%)]\tLoss: 0.704157\n",
      "Train Epoch: 4 [6400/33600 (19%)]\tLoss: 0.569475\n",
      "Train Epoch: 4 [12800/33600 (38%)]\tLoss: 0.491757\n",
      "Train Epoch: 4 [19200/33600 (57%)]\tLoss: 0.759718\n",
      "Train Epoch: 4 [25600/33600 (76%)]\tLoss: 0.437556\n",
      "Train Epoch: 4 [32000/33600 (95%)]\tLoss: 0.443971\n",
      "\n",
      "Test set: Average loss: 0.2684, Accuracy: 17382/18870 (92%)\n",
      "\n",
      "Train Epoch: 5 [0/33600 (0%)]\tLoss: 0.431442\n",
      "Train Epoch: 5 [6400/33600 (19%)]\tLoss: 0.436524\n",
      "Train Epoch: 5 [12800/33600 (38%)]\tLoss: 0.435350\n",
      "Train Epoch: 5 [19200/33600 (57%)]\tLoss: 0.500267\n",
      "Train Epoch: 5 [25600/33600 (76%)]\tLoss: 0.478883\n",
      "Train Epoch: 5 [32000/33600 (95%)]\tLoss: 0.562439\n",
      "\n",
      "Test set: Average loss: 0.2417, Accuracy: 17536/18870 (93%)\n",
      "\n",
      "Train Epoch: 6 [0/33600 (0%)]\tLoss: 0.379949\n",
      "Train Epoch: 6 [6400/33600 (19%)]\tLoss: 0.476592\n",
      "Train Epoch: 6 [12800/33600 (38%)]\tLoss: 0.397817\n",
      "Train Epoch: 6 [19200/33600 (57%)]\tLoss: 0.389679\n",
      "Train Epoch: 6 [25600/33600 (76%)]\tLoss: 0.619753\n",
      "Train Epoch: 6 [32000/33600 (95%)]\tLoss: 0.418789\n",
      "\n",
      "Test set: Average loss: 0.2230, Accuracy: 17634/18870 (93%)\n",
      "\n",
      "Train Epoch: 7 [0/33600 (0%)]\tLoss: 0.401487\n",
      "Train Epoch: 7 [6400/33600 (19%)]\tLoss: 0.362735\n",
      "Train Epoch: 7 [12800/33600 (38%)]\tLoss: 0.295721\n",
      "Train Epoch: 7 [19200/33600 (57%)]\tLoss: 0.346512\n",
      "Train Epoch: 7 [25600/33600 (76%)]\tLoss: 0.509661\n",
      "Train Epoch: 7 [32000/33600 (95%)]\tLoss: 0.261619\n",
      "\n",
      "Test set: Average loss: 0.2078, Accuracy: 17693/18870 (94%)\n",
      "\n",
      "Train Epoch: 8 [0/33600 (0%)]\tLoss: 0.381642\n",
      "Train Epoch: 8 [6400/33600 (19%)]\tLoss: 0.443085\n",
      "Train Epoch: 8 [12800/33600 (38%)]\tLoss: 0.215570\n",
      "Train Epoch: 8 [19200/33600 (57%)]\tLoss: 0.380946\n",
      "Train Epoch: 8 [25600/33600 (76%)]\tLoss: 0.243119\n",
      "Train Epoch: 8 [32000/33600 (95%)]\tLoss: 0.496749\n",
      "\n",
      "Test set: Average loss: 0.1938, Accuracy: 17781/18870 (94%)\n",
      "\n",
      "Train Epoch: 9 [0/33600 (0%)]\tLoss: 0.376933\n",
      "Train Epoch: 9 [6400/33600 (19%)]\tLoss: 0.400127\n",
      "Train Epoch: 9 [12800/33600 (38%)]\tLoss: 0.510094\n",
      "Train Epoch: 9 [19200/33600 (57%)]\tLoss: 0.345063\n",
      "Train Epoch: 9 [25600/33600 (76%)]\tLoss: 0.239278\n",
      "Train Epoch: 9 [32000/33600 (95%)]\tLoss: 0.376758\n",
      "\n",
      "Test set: Average loss: 0.1809, Accuracy: 17853/18870 (95%)\n",
      "\n",
      "Train Epoch: 10 [0/33600 (0%)]\tLoss: 0.263022\n",
      "Train Epoch: 10 [6400/33600 (19%)]\tLoss: 0.426302\n",
      "Train Epoch: 10 [12800/33600 (38%)]\tLoss: 0.247239\n",
      "Train Epoch: 10 [19200/33600 (57%)]\tLoss: 0.340689\n",
      "Train Epoch: 10 [25600/33600 (76%)]\tLoss: 0.327965\n",
      "Train Epoch: 10 [32000/33600 (95%)]\tLoss: 0.303569\n",
      "\n",
      "Test set: Average loss: 0.1736, Accuracy: 17898/18870 (95%)\n",
      "\n",
      "Train Epoch: 11 [0/33600 (0%)]\tLoss: 0.177084\n",
      "Train Epoch: 11 [6400/33600 (19%)]\tLoss: 0.298094\n",
      "Train Epoch: 11 [12800/33600 (38%)]\tLoss: 0.283008\n",
      "Train Epoch: 11 [19200/33600 (57%)]\tLoss: 0.286913\n",
      "Train Epoch: 11 [25600/33600 (76%)]\tLoss: 0.304393\n",
      "Train Epoch: 11 [32000/33600 (95%)]\tLoss: 0.257837\n",
      "\n",
      "Test set: Average loss: 0.1661, Accuracy: 17936/18870 (95%)\n",
      "\n",
      "Train Epoch: 12 [0/33600 (0%)]\tLoss: 0.367714\n",
      "Train Epoch: 12 [6400/33600 (19%)]\tLoss: 0.394129\n",
      "Train Epoch: 12 [12800/33600 (38%)]\tLoss: 0.343191\n",
      "Train Epoch: 12 [19200/33600 (57%)]\tLoss: 0.241996\n",
      "Train Epoch: 12 [25600/33600 (76%)]\tLoss: 0.283652\n",
      "Train Epoch: 12 [32000/33600 (95%)]\tLoss: 0.200476\n",
      "\n",
      "Test set: Average loss: 0.1584, Accuracy: 17979/18870 (95%)\n",
      "\n",
      "Train Epoch: 13 [0/33600 (0%)]\tLoss: 0.348955\n",
      "Train Epoch: 13 [6400/33600 (19%)]\tLoss: 0.358820\n",
      "Train Epoch: 13 [12800/33600 (38%)]\tLoss: 0.275507\n",
      "Train Epoch: 13 [19200/33600 (57%)]\tLoss: 0.315011\n"
     ]
    }
   ],
   "source": [
    "for epoch in range(16): # loop over the dataset multiple times\n",
    "    train(epoch)\n",
    "    test(epoch)"
   ]
  },
  {
   "cell_type": "code",
   "execution_count": null,
   "metadata": {
    "collapsed": true
   },
   "outputs": [],
   "source": [
    "test_df = pd.read_csv(\"input/test.csv\")\n",
    "test_cube = cube_data(test_df)\n",
    "ntest = test_cube.shape[0]\n",
    "test_cube = torch.FloatTensor(test_cube)"
   ]
  },
  {
   "cell_type": "code",
   "execution_count": null,
   "metadata": {
    "collapsed": true
   },
   "outputs": [],
   "source": [
    "test_cube = test_cube.cuda()"
   ]
  },
  {
   "cell_type": "code",
   "execution_count": null,
   "metadata": {},
   "outputs": [],
   "source": [
    "pred = net(Variable(test_cube))"
   ]
  },
  {
   "cell_type": "code",
   "execution_count": null,
   "metadata": {
    "collapsed": true
   },
   "outputs": [],
   "source": [
    "_, predicted = torch.max(pred, 1)"
   ]
  },
  {
   "cell_type": "code",
   "execution_count": null,
   "metadata": {
    "collapsed": true
   },
   "outputs": [],
   "source": [
    "predicted"
   ]
  },
  {
   "cell_type": "code",
   "execution_count": null,
   "metadata": {
    "collapsed": true
   },
   "outputs": [],
   "source": [
    "d = {'ImageId' : pd.Series(np.arange(1, ntest + 1)), \n",
    "     'Label' : pd.Series(predicted.data.squeeze().cpu().numpy())}\n",
    "test_df = pd.DataFrame(d)\n",
    "test_df.to_csv(\"output/submit.csv\", index = False)"
   ]
  },
  {
   "cell_type": "code",
   "execution_count": null,
   "metadata": {
    "collapsed": true
   },
   "outputs": [],
   "source": []
  }
 ],
 "metadata": {
  "kernelspec": {
   "display_name": "Python [conda env:opencv]",
   "language": "python",
   "name": "conda-env-opencv-py"
  },
  "language_info": {
   "codemirror_mode": {
    "name": "ipython",
    "version": 3
   },
   "file_extension": ".py",
   "mimetype": "text/x-python",
   "name": "python",
   "nbconvert_exporter": "python",
   "pygments_lexer": "ipython3",
   "version": "3.5.3"
  }
 },
 "nbformat": 4,
 "nbformat_minor": 2
}
